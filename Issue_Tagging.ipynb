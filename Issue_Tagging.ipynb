{
  "cells": [
    {
      "cell_type": "code",
      "execution_count": null,
      "metadata": {
        "id": "UhzYOxQGlcco"
      },
      "outputs": [],
      "source": [
        "!pip install transformers\n",
        "!pip install fasttext"
      ]
    },
    {
      "cell_type": "code",
      "execution_count": 61,
      "metadata": {
        "id": "daY2YoXQli3G",
        "colab": {
          "base_uri": "https://localhost:8080/"
        },
        "outputId": "5dafe451-76e9-452e-b239-e6cc81c50420"
      },
      "outputs": [
        {
          "output_type": "stream",
          "name": "stdout",
          "text": [
            "[nltk_data] Downloading package stopwords to /root/nltk_data...\n",
            "[nltk_data]   Package stopwords is already up-to-date!\n",
            "[nltk_data] Downloading package punkt to /root/nltk_data...\n",
            "[nltk_data]   Package punkt is already up-to-date!\n"
          ]
        },
        {
          "output_type": "execute_result",
          "data": {
            "text/plain": [
              "True"
            ]
          },
          "metadata": {},
          "execution_count": 61
        }
      ],
      "source": [
        "import pandas as pd\n",
        "import numpy as np\n",
        "from tqdm.auto import tqdm\n",
        "import tensorflow as tf \n",
        "from transformers import BertTokenizer\n",
        "\n",
        "from copy import deepcopy\n",
        "\n",
        "from typing import Union, List\n",
        "\n",
        "from sklearn.model_selection import train_test_split\n",
        "\n",
        "from nltk.corpus import stopwords\n",
        "from nltk.tokenize import sent_tokenize\n",
        "from nltk.tokenize import word_tokenize\n",
        "from nltk.stem import PorterStemmer\n",
        "import re\n",
        "from sklearn.feature_extraction.text import CountVectorizer\n",
        "import fasttext\n",
        "from copy import deepcopy\n",
        "import numpy as np\n",
        "import csv\n",
        "import nltk\n",
        "nltk.download('stopwords')\n",
        "nltk.download('punkt')"
      ]
    },
    {
      "cell_type": "code",
      "execution_count": 62,
      "metadata": {
        "id": "1SaAbvgfl3h2"
      },
      "outputs": [],
      "source": [
        "dataset = pd.read_csv (r'dataset.csv',names=['description'])\n",
        "classes = []\n",
        "labels=[]\n",
        "catagories = [\"__label__bug\",\"__label__enhancement\",\"__label__question\"]\n",
        "\n",
        "\n",
        "for line in range(0,len(dataset)):\n",
        "    class_name = dataset.iloc[line].to_string(header=False, index=False).split(\" \")[0]\n",
        "    if class_name  in catagories:\n",
        "      if class_name == \"__label__bug\":\n",
        "        classes.append(\"__label__bug\")\n",
        "        labels.append(0)\n",
        "      elif class_name == \"__label__enhancement\":\n",
        "        classes.append(\"__label__enhancement\")\n",
        "        labels.append(1)\n",
        "      else:\n",
        "         classes.append(\"__label__question\")\n",
        "         labels.append(2)\n",
        "      dataset.iloc[line] = dataset.iloc[line].str.replace(class_name,'')\n",
        "    else:\n",
        "      labels.append(pd.NaT)\n",
        "      classes.append(pd.NaT)\n",
        "      dataset.iloc[line] = pd.NaT\n",
        "\n",
        "dataset['labels'] = labels\n",
        "dataset['class'] = classes\n",
        "\n",
        "dataset.dropna(axis = 0, how = 'all', inplace = True)\n",
        "dataset = dataset.reset_index()\n",
        "ds = deepcopy(dataset)\n",
        "\n",
        "\n"
      ]
    },
    {
      "cell_type": "markdown",
      "source": [
        "# **Fasttext model**"
      ],
      "metadata": {
        "id": "3WZs6NRU-tXo"
      }
    },
    {
      "cell_type": "code",
      "source": [
        "target = dataset['class']\n",
        "\n",
        "x=dataset['description']\n",
        "\n",
        "stopword=stopwords.words('english')\n",
        "ps=PorterStemmer()\n",
        "x=dataset['description']\n",
        "\n",
        "for i in range(len(x)):\n",
        "  word=re.sub('[^a-zA-Z]',' ',x[i])\n",
        "  word=word.lower()\n",
        "  word=word_tokenize(word)\n",
        "  word=[ps.stem(words) for words in word if words not in stopword]\n",
        "  x[i]=' '.join(word)\n",
        "\n",
        "\n",
        "cv=CountVectorizer(max_features=3000)\n",
        "x_vector=cv.fit_transform(x).toarray()\n",
        "\n",
        "frames = [target, x]\n",
        "dataset = pd.concat(frames, axis=1)\n",
        "train_size = int(len(dataset)* 0.8)\n",
        "ds1 = dataset[:train_size]\n",
        "ds2 = dataset[train_size+1:]\n",
        "\n",
        "\n",
        "ds1[['class', 'description']].to_csv('train.txt', \n",
        "                                          index = False, \n",
        "                                          sep = ' ',\n",
        "                                          header = None, \n",
        "                                          quoting = csv.QUOTE_NONE, \n",
        "                                          quotechar = \"\", \n",
        "                                          escapechar = \" \")\n",
        "\n",
        "\n",
        "ds2[['class', 'description']].to_csv('test.txt', \n",
        "                                     index = False, \n",
        "                                     sep = ' ',\n",
        "                                     header = None, \n",
        "                                     quoting = csv.QUOTE_NONE, \n",
        "                                     quotechar = \"\", \n",
        "                                     escapechar = \" \")\n",
        "\n"
      ],
      "metadata": {
        "id": "lsgvv3299Jiv"
      },
      "execution_count": null,
      "outputs": []
    },
    {
      "cell_type": "code",
      "source": [
        "model = fasttext.train_supervised('train.txt', wordNgrams = 0, loss='softmax',minCount= 14, epoch = 500)"
      ],
      "metadata": {
        "id": "muSkRntnj7Qs"
      },
      "execution_count": 7,
      "outputs": []
    },
    {
      "cell_type": "code",
      "source": [
        "model.test(test.txt)"
      ],
      "metadata": {
        "id": "CJUVQCwhA-cB"
      },
      "execution_count": null,
      "outputs": []
    },
    {
      "cell_type": "code",
      "source": [
        "model.predict(ds.iloc[1,1])"
      ],
      "metadata": {
        "id": "7izQRhhNGtcb",
        "colab": {
          "base_uri": "https://localhost:8080/"
        },
        "outputId": "a0a8978d-35de-4ede-af68-45103ecf00f1"
      },
      "execution_count": 10,
      "outputs": [
        {
          "output_type": "execute_result",
          "data": {
            "text/plain": [
              "(('__label__enhancement',), array([0.99720573]))"
            ]
          },
          "metadata": {},
          "execution_count": 10
        }
      ]
    },
    {
      "cell_type": "markdown",
      "source": [
        "# **Bert Model**"
      ],
      "metadata": {
        "id": "tBa7NVUkohzB"
      }
    },
    {
      "cell_type": "code",
      "source": [
        "# data_bug = ds[ds['labels']  == 0] \n",
        "# data_enhancement = ds[ds['labels']  == 1] \n",
        "# data_question = ds[ds['labels']  == 2] \n",
        "\n",
        "# data_bug = data_bug[:4000]\n",
        "# data_enhancement = data_enhancement[:4000]\n",
        "# data_question = data_question[:4000]\n",
        "\n",
        "# dataset = pd.concat([data_bug, data_enhancement,data_question], axis=0)\n",
        "\n",
        "# dataset = dataset.sample(frac=1).reset_index()\n",
        "# len(dataset)\n",
        "# dataset.head()\n",
        "\n",
        "# removing leading and trailing space \n",
        "\n",
        "ds1 = deepcopy(ds)\n",
        "dataset = ds.applymap(lambda x: x.strip() if isinstance(x, str) else x)"
      ],
      "metadata": {
        "id": "1DSOBP0hi3r6"
      },
      "execution_count": 63,
      "outputs": []
    },
    {
      "cell_type": "code",
      "execution_count": 64,
      "metadata": {
        "id": "--Wx--wimdXX",
        "colab": {
          "base_uri": "https://localhost:8080/"
        },
        "outputId": "85dea456-ab84-4791-a525-eb4cf3f5cd5b"
      },
      "outputs": [
        {
          "output_type": "execute_result",
          "data": {
            "text/plain": [
              "0    16355\n",
              "1    14228\n",
              "2     3458\n",
              "Name: labels, dtype: int64"
            ]
          },
          "metadata": {},
          "execution_count": 64
        }
      ],
      "source": [
        "dataset['labels'].value_counts()"
      ]
    },
    {
      "cell_type": "code",
      "execution_count": 65,
      "metadata": {
        "id": "6xFTKS1hrnN8"
      },
      "outputs": [],
      "source": [
        "tokenizer = BertTokenizer.from_pretrained('bert-base-cased')"
      ]
    },
    {
      "cell_type": "code",
      "execution_count": 66,
      "metadata": {
        "id": "EqkcTboytRyj"
      },
      "outputs": [],
      "source": [
        "X_input_ids = np.zeros((len(dataset),256))\n",
        "X_attension_masks = np.zeros((len(dataset),256))"
      ]
    },
    {
      "cell_type": "code",
      "execution_count": 67,
      "metadata": {
        "id": "dQl5MmkLtoV1",
        "colab": {
          "base_uri": "https://localhost:8080/"
        },
        "outputId": "f1eb0df1-b34e-4a8a-c2f0-e98cb78ef0b1"
      },
      "outputs": [
        {
          "output_type": "execute_result",
          "data": {
            "text/plain": [
              "(34041, 256)"
            ]
          },
          "metadata": {},
          "execution_count": 67
        }
      ],
      "source": [
        "X_input_ids.shape"
      ]
    },
    {
      "cell_type": "code",
      "execution_count": 68,
      "metadata": {
        "id": "Dc2sn_lJt5vX"
      },
      "outputs": [],
      "source": [
        "def training_data_prep(df, ids, masks, tokenizer):\n",
        "  for i, text in tqdm(enumerate(df['description'])):\n",
        "    tokenized_text = tokenizer.encode_plus(\n",
        "        text,\n",
        "        max_length = 256,\n",
        "        truncation = True,\n",
        "        padding = 'max_length',\n",
        "        add_special_tokens = True,\n",
        "        return_tensors = 'tf'\n",
        "      )\n",
        "    ids[i,:] = tokenized_text.input_ids\n",
        "    masks[i,:] = tokenized_text.attention_mask\n",
        "  return ids,masks"
      ]
    },
    {
      "cell_type": "code",
      "execution_count": 69,
      "metadata": {
        "id": "2nhqGnfbu2dd",
        "colab": {
          "base_uri": "https://localhost:8080/",
          "height": 49,
          "referenced_widgets": [
            "46dd35687e5348879377e91bf26c3e28",
            "847fb7cb341e447a8936418870340e28",
            "80be222a3f3d4e56ad4fb41358ec3f8b",
            "95ae1ed3f35f4fecb991f5a94bab9254",
            "c7069100214e4f4d8733b618350464b4",
            "0dc5f5ee5f9843fbabb572752dc6be38",
            "37be713926254618abc1438c7693f4bd",
            "df328f58dc3d43f48ece2578a44d6eb9",
            "6dcbb62f1f06490c9ab86f3e9312d01d",
            "395d2e6c28934b37a42988d867dcd369",
            "d0817001cf7e4951b657cce7a412eaf9"
          ]
        },
        "outputId": "5ad1b97e-3591-443d-c87a-06f460276f56"
      },
      "outputs": [
        {
          "output_type": "display_data",
          "data": {
            "text/plain": [
              "0it [00:00, ?it/s]"
            ],
            "application/vnd.jupyter.widget-view+json": {
              "version_major": 2,
              "version_minor": 0,
              "model_id": "46dd35687e5348879377e91bf26c3e28"
            }
          },
          "metadata": {}
        }
      ],
      "source": [
        "X_input_ids,X_attension_masks = training_data_prep(dataset,X_input_ids,X_attension_masks,tokenizer)"
      ]
    },
    {
      "cell_type": "code",
      "execution_count": 70,
      "metadata": {
        "id": "Ipf6rVZHvH8f",
        "colab": {
          "base_uri": "https://localhost:8080/"
        },
        "outputId": "4e280a54-2b2e-4649-a56b-5db25bd13607"
      },
      "outputs": [
        {
          "output_type": "execute_result",
          "data": {
            "text/plain": [
              "array([[  101.,   169., 19722., ...,     0.,     0.,     0.],\n",
              "       [  101.,   156., 18548., ...,     0.,     0.,     0.],\n",
              "       [  101.,  3799.,  1403., ...,  2137., 18922.,   102.],\n",
              "       ...,\n",
              "       [  101.,   193., 22433., ...,     0.,     0.,     0.],\n",
              "       [  101.,  1960.,   189., ...,     0.,     0.,     0.],\n",
              "       [  101.,  1960.,   189., ...,     0.,     0.,     0.]])"
            ]
          },
          "metadata": {},
          "execution_count": 70
        }
      ],
      "source": [
        "X_input_ids"
      ]
    },
    {
      "cell_type": "code",
      "execution_count": 71,
      "metadata": {
        "id": "S7Q6DrsvwL0E"
      },
      "outputs": [],
      "source": [
        "labels = np.zeros((len(dataset),3))"
      ]
    },
    {
      "cell_type": "code",
      "execution_count": 72,
      "metadata": {
        "id": "o372xJZgwW23"
      },
      "outputs": [],
      "source": [
        "labels[np.arange(len(dataset)), dataset['labels'].values] = 1"
      ]
    },
    {
      "cell_type": "code",
      "execution_count": 73,
      "metadata": {
        "id": "bJmoi9v2w_rf"
      },
      "outputs": [],
      "source": [
        "ds = tf.data.Dataset.from_tensor_slices((X_input_ids, X_attension_masks,labels ))"
      ]
    },
    {
      "cell_type": "code",
      "execution_count": 74,
      "metadata": {
        "id": "zTYWBbM8yDJq"
      },
      "outputs": [],
      "source": [
        "def mapFunction(input_ids, attn_masks, labels):\n",
        "  return {\n",
        "      'input_ids':input_ids,\n",
        "      'attention_mask': attn_masks,\n",
        "  },labels"
      ]
    },
    {
      "cell_type": "code",
      "execution_count": 75,
      "metadata": {
        "id": "pKJceZ83yd58"
      },
      "outputs": [],
      "source": [
        "ds = ds.map(mapFunction)"
      ]
    },
    {
      "cell_type": "code",
      "execution_count": 76,
      "metadata": {
        "id": "UW1NL-INy1g7",
        "colab": {
          "base_uri": "https://localhost:8080/"
        },
        "outputId": "ca5f52e8-83d4-4613-c33a-5b134f274e49"
      },
      "outputs": [
        {
          "output_type": "execute_result",
          "data": {
            "text/plain": [
              "<TakeDataset element_spec=({'input_ids': TensorSpec(shape=(256,), dtype=tf.float64, name=None), 'attention_mask': TensorSpec(shape=(256,), dtype=tf.float64, name=None)}, TensorSpec(shape=(3,), dtype=tf.float64, name=None))>"
            ]
          },
          "metadata": {},
          "execution_count": 76
        }
      ],
      "source": [
        "ds.take(1)"
      ]
    },
    {
      "cell_type": "code",
      "execution_count": 77,
      "metadata": {
        "id": "xaVa5u0MzpMn"
      },
      "outputs": [],
      "source": [
        "ds = ds.shuffle(10000).batch(16, drop_remainder= True)"
      ]
    },
    {
      "cell_type": "code",
      "execution_count": 78,
      "metadata": {
        "id": "6rM5wzRTz-C_"
      },
      "outputs": [],
      "source": [
        "split = 0.8\n",
        "train_size = int((len(dataset)//16) * split)\n"
      ]
    },
    {
      "cell_type": "code",
      "execution_count": 79,
      "metadata": {
        "id": "D0x4LaOD0d5H",
        "colab": {
          "base_uri": "https://localhost:8080/"
        },
        "outputId": "7df6db2b-1a33-417e-b032-08b5130c5071"
      },
      "outputs": [
        {
          "output_type": "stream",
          "name": "stdout",
          "text": [
            "1360 341 426\n"
          ]
        }
      ],
      "source": [
        "train_ds = ds.take(train_size)\n",
        "val_size = int((len(train_ds)) * split)\n",
        "train_dataset = train_ds.take(val_size)\n",
        "val_dataset = train_ds.skip(val_size)\n",
        "test_dataset = ds.skip(train_size)\n",
        "\n",
        "print(len(train_dataset), len(val_dataset), len(test_dataset))"
      ]
    },
    {
      "cell_type": "code",
      "execution_count": 80,
      "metadata": {
        "id": "nfOhiBTm0utc"
      },
      "outputs": [],
      "source": [
        "from transformers import TFBertModel"
      ]
    },
    {
      "cell_type": "code",
      "execution_count": 81,
      "metadata": {
        "id": "h45tSp88017p",
        "colab": {
          "base_uri": "https://localhost:8080/"
        },
        "outputId": "48756d98-9edf-4a62-b75f-3f6370c33ee9"
      },
      "outputs": [
        {
          "output_type": "stream",
          "name": "stderr",
          "text": [
            "Some layers from the model checkpoint at bert-base-cased were not used when initializing TFBertModel: ['nsp___cls', 'mlm___cls']\n",
            "- This IS expected if you are initializing TFBertModel from the checkpoint of a model trained on another task or with another architecture (e.g. initializing a BertForSequenceClassification model from a BertForPreTraining model).\n",
            "- This IS NOT expected if you are initializing TFBertModel from the checkpoint of a model that you expect to be exactly identical (initializing a BertForSequenceClassification model from a BertForSequenceClassification model).\n",
            "All the layers of TFBertModel were initialized from the model checkpoint at bert-base-cased.\n",
            "If your task is similar to the task the model of the checkpoint was trained on, you can already use TFBertModel for predictions without further training.\n"
          ]
        }
      ],
      "source": [
        "bert_model = TFBertModel.from_pretrained('bert-base-cased')"
      ]
    },
    {
      "cell_type": "code",
      "execution_count": 82,
      "metadata": {
        "id": "CbNT9U1R1Gdv",
        "colab": {
          "base_uri": "https://localhost:8080/"
        },
        "outputId": "b29bc541-6754-4638-f90c-cbd652913da2"
      },
      "outputs": [
        {
          "output_type": "stream",
          "name": "stdout",
          "text": [
            "Model: \"model_2\"\n",
            "__________________________________________________________________________________________________\n",
            " Layer (type)                   Output Shape         Param #     Connected to                     \n",
            "==================================================================================================\n",
            " input_ids (InputLayer)         [(None, 256)]        0           []                               \n",
            "                                                                                                  \n",
            " attention_mask (InputLayer)    [(None, 256)]        0           []                               \n",
            "                                                                                                  \n",
            " bert (TFBertMainLayer)         TFBaseModelOutputWi  108310272   ['input_ids[0][0]',              \n",
            "                                thPoolingAndCrossAt               'attention_mask[0][0]']         \n",
            "                                tentions(last_hidde                                               \n",
            "                                n_state=(None, 256,                                               \n",
            "                                 768),                                                            \n",
            "                                 pooler_output=(Non                                               \n",
            "                                e, 768),                                                          \n",
            "                                 past_key_values=No                                               \n",
            "                                ne, hidden_states=N                                               \n",
            "                                one, attentions=Non                                               \n",
            "                                e, cross_attentions                                               \n",
            "                                =None)                                                            \n",
            "                                                                                                  \n",
            " intermediate_layer (Dense)     (None, 512)          393728      ['bert[0][1]']                   \n",
            "                                                                                                  \n",
            " output_layer (Dense)           (None, 3)            1539        ['intermediate_layer[0][0]']     \n",
            "                                                                                                  \n",
            "==================================================================================================\n",
            "Total params: 108,705,539\n",
            "Trainable params: 108,705,539\n",
            "Non-trainable params: 0\n",
            "__________________________________________________________________________________________________\n"
          ]
        }
      ],
      "source": [
        "input_ids = tf.keras.layers.Input(shape=(256,),name='input_ids',dtype='int32')\n",
        "attention_mask = tf.keras.layers.Input(shape=(256,),name='attention_mask',dtype='int32')\n",
        "\n",
        "\n",
        "berd_embds = bert_model.bert(input_ids, attention_mask=attention_mask)[1]\n",
        "intermediate_layer = tf.keras.layers.Dense(512, activation = 'relu', name = 'intermediate_layer')(berd_embds)\n",
        "output_layer = tf.keras.layers.Dense(3, activation = 'softmax', name = 'output_layer')(intermediate_layer)\n",
        "\n",
        "model = tf.keras.Model(inputs = [input_ids, attention_mask], outputs = output_layer)\n",
        "model.summary()"
      ]
    },
    {
      "cell_type": "code",
      "execution_count": 83,
      "metadata": {
        "id": "rNqxDFvR1mmT"
      },
      "outputs": [],
      "source": [
        "optimizer = tf.keras.optimizers.Adam(learning_rate=1e-5, decay = 1e-6)\n",
        "loss_func = tf.keras.losses.CategoricalCrossentropy()\n",
        "acc = tf.keras.metrics.CategoricalAccuracy('accuracy')"
      ]
    },
    {
      "cell_type": "code",
      "source": [
        "from keras import backend as K\n",
        "\n",
        "def recall_m(y_true, y_pred):\n",
        "    true_positives = K.sum(K.round(K.clip(y_true * y_pred, 0, 1)))\n",
        "    possible_positives = K.sum(K.round(K.clip(y_true, 0, 1)))\n",
        "    recall = true_positives / (possible_positives + K.epsilon())\n",
        "    return recall\n",
        "\n",
        "def precision_m(y_true, y_pred):\n",
        "    true_positives = K.sum(K.round(K.clip(y_true * y_pred, 0, 1)))\n",
        "    predicted_positives = K.sum(K.round(K.clip(y_pred, 0, 1)))\n",
        "    precision = true_positives / (predicted_positives + K.epsilon())\n",
        "    return precision\n",
        "\n",
        "def f1_m(y_true, y_pred):\n",
        "    precision = precision_m(y_true, y_pred)\n",
        "    recall = recall_m(y_true, y_pred)\n",
        "    return 2*((precision*recall)/(precision+recall+K.epsilon()))"
      ],
      "metadata": {
        "id": "iayrLes80l_o"
      },
      "execution_count": 84,
      "outputs": []
    },
    {
      "cell_type": "code",
      "execution_count": 85,
      "metadata": {
        "id": "ZZvkY7qw4SHP"
      },
      "outputs": [],
      "source": [
        "model.compile(optimizer = optimizer, loss = loss_func,  metrics=[acc,f1_m,precision_m, recall_m])"
      ]
    },
    {
      "cell_type": "code",
      "execution_count": 86,
      "metadata": {
        "id": "GGz7JbRW4kSv",
        "colab": {
          "base_uri": "https://localhost:8080/"
        },
        "outputId": "93ff9174-200e-4349-ae19-8b0568569adc"
      },
      "outputs": [
        {
          "output_type": "stream",
          "name": "stdout",
          "text": [
            "Epoch 1/4\n",
            "1360/1360 [==============================] - 1273s 902ms/step - loss: 0.5898 - accuracy: 0.7608 - f1_m: 0.7485 - precision_m: 0.7816 - recall_m: 0.7244 - val_loss: 0.4913 - val_accuracy: 0.8167 - val_f1_m: 0.8110 - val_precision_m: 0.8294 - val_recall_m: 0.7944\n",
            "Epoch 2/4\n",
            "1360/1360 [==============================] - 1227s 902ms/step - loss: 0.4848 - accuracy: 0.8141 - f1_m: 0.8124 - precision_m: 0.8296 - recall_m: 0.7970 - val_loss: 0.4170 - val_accuracy: 0.8438 - val_f1_m: 0.8429 - val_precision_m: 0.8540 - val_recall_m: 0.8328\n",
            "Epoch 3/4\n",
            "1360/1360 [==============================] - 1226s 902ms/step - loss: 0.4096 - accuracy: 0.8465 - f1_m: 0.8460 - precision_m: 0.8585 - recall_m: 0.8347 - val_loss: 0.3997 - val_accuracy: 0.8552 - val_f1_m: 0.8568 - val_precision_m: 0.8651 - val_recall_m: 0.8492\n",
            "Epoch 4/4\n",
            "1360/1360 [==============================] - 1226s 902ms/step - loss: 0.3441 - accuracy: 0.8742 - f1_m: 0.8733 - precision_m: 0.8830 - recall_m: 0.8644 - val_loss: 0.3443 - val_accuracy: 0.8790 - val_f1_m: 0.8791 - val_precision_m: 0.8880 - val_recall_m: 0.8710\n"
          ]
        }
      ],
      "source": [
        "hist = model.fit(\n",
        "    train_dataset, validation_data = val_dataset, epochs = 4\n",
        ")"
      ]
    },
    {
      "cell_type": "code",
      "source": [
        "model.predict(test_dataset)"
      ],
      "metadata": {
        "colab": {
          "base_uri": "https://localhost:8080/"
        },
        "id": "RudncCdr8gtD",
        "outputId": "4c922cb3-6b0b-43d5-cf8c-6769c5ebef3a"
      },
      "execution_count": 96,
      "outputs": [
        {
          "output_type": "execute_result",
          "data": {
            "text/plain": [
              "array([[0.3915886 , 0.51777864, 0.0906328 ],\n",
              "       [0.932819  , 0.01084513, 0.05633579],\n",
              "       [0.0840931 , 0.90801936, 0.0078876 ],\n",
              "       ...,\n",
              "       [0.98971295, 0.00696268, 0.00332439],\n",
              "       [0.27757618, 0.7150035 , 0.00742036],\n",
              "       [0.0403362 , 0.95542765, 0.00423614]], dtype=float32)"
            ]
          },
          "metadata": {},
          "execution_count": 96
        }
      ]
    },
    {
      "cell_type": "code",
      "source": [
        "test_dataset.take"
      ],
      "metadata": {
        "colab": {
          "base_uri": "https://localhost:8080/",
          "height": 172
        },
        "id": "chHsfWeYBSB1",
        "outputId": "4a10127e-4008-49d3-fa39-36d01f2a9d61"
      },
      "execution_count": 97,
      "outputs": [
        {
          "output_type": "error",
          "ename": "TypeError",
          "evalue": "ignored",
          "traceback": [
            "\u001b[0;31m---------------------------------------------------------------------------\u001b[0m",
            "\u001b[0;31mTypeError\u001b[0m                                 Traceback (most recent call last)",
            "\u001b[0;32m<ipython-input-97-83016ac55d9a>\u001b[0m in \u001b[0;36m<module>\u001b[0;34m()\u001b[0m\n\u001b[0;32m----> 1\u001b[0;31m \u001b[0mtest_dataset\u001b[0m\u001b[0;34m[\u001b[0m\u001b[0;36m0\u001b[0m\u001b[0;34m]\u001b[0m\u001b[0;34m[\u001b[0m\u001b[0;36m0\u001b[0m\u001b[0;34m]\u001b[0m\u001b[0;34m\u001b[0m\u001b[0;34m\u001b[0m\u001b[0m\n\u001b[0m",
            "\u001b[0;31mTypeError\u001b[0m: 'SkipDataset' object is not subscriptable"
          ]
        }
      ]
    },
    {
      "cell_type": "code",
      "source": [
        "model.save('issue_labelling_model')"
      ],
      "metadata": {
        "id": "gqd0cU6k9Mu7",
        "colab": {
          "base_uri": "https://localhost:8080/"
        },
        "outputId": "cfbcade3-4587-406d-8098-a37bb91ef26c"
      },
      "execution_count": 87,
      "outputs": [
        {
          "output_type": "stream",
          "name": "stderr",
          "text": [
            "WARNING:absl:Found untraced functions such as embeddings_layer_call_fn, embeddings_layer_call_and_return_conditional_losses, encoder_layer_call_fn, encoder_layer_call_and_return_conditional_losses, pooler_layer_call_fn while saving (showing 5 of 420). These functions will not be directly callable after loading.\n"
          ]
        },
        {
          "output_type": "stream",
          "name": "stdout",
          "text": [
            "INFO:tensorflow:Assets written to: issue_labelling_model/assets\n"
          ]
        },
        {
          "output_type": "stream",
          "name": "stderr",
          "text": [
            "INFO:tensorflow:Assets written to: issue_labelling_model/assets\n"
          ]
        }
      ]
    },
    {
      "cell_type": "code",
      "source": [
        "# load_model = tf.keras.models.load_model('issue_labelling_model')"
      ],
      "metadata": {
        "id": "UwdVKi7L9lsg"
      },
      "execution_count": null,
      "outputs": []
    },
    {
      "cell_type": "code",
      "source": [
        "# from google.colab import drive\n",
        "# drive.mount('/content/drive')"
      ],
      "metadata": {
        "id": "JqCpIpMFAB1F"
      },
      "execution_count": 89,
      "outputs": []
    },
    {
      "cell_type": "code",
      "source": [
        "import shutil\n",
        "shutil.make_archive('issue_labelling_model', 'zip', 'issue_labelling_model')"
      ],
      "metadata": {
        "id": "NpMRy0XcVwRQ",
        "colab": {
          "base_uri": "https://localhost:8080/",
          "height": 36
        },
        "outputId": "da36d76c-8810-4c23-ba11-999097131fd8"
      },
      "execution_count": 90,
      "outputs": [
        {
          "output_type": "execute_result",
          "data": {
            "text/plain": [
              "'/content/issue_labelling_model.zip'"
            ],
            "application/vnd.google.colaboratory.intrinsic+json": {
              "type": "string"
            }
          },
          "metadata": {},
          "execution_count": 90
        }
      ]
    },
    {
      "cell_type": "code",
      "source": [
        "! unzip -q issue_labelling_model.zip"
      ],
      "metadata": {
        "id": "h_3EdnO2XIQq"
      },
      "execution_count": 91,
      "outputs": []
    }
  ],
  "metadata": {
    "colab": {
      "collapsed_sections": [],
      "name": "Issue Tagging.ipynb",
      "provenance": []
    },
    "kernelspec": {
      "display_name": "Python 3",
      "name": "python3"
    },
    "language_info": {
      "name": "python"
    },
    "accelerator": "GPU",
    "widgets": {
      "application/vnd.jupyter.widget-state+json": {
        "46dd35687e5348879377e91bf26c3e28": {
          "model_module": "@jupyter-widgets/controls",
          "model_name": "HBoxModel",
          "model_module_version": "1.5.0",
          "state": {
            "_dom_classes": [],
            "_model_module": "@jupyter-widgets/controls",
            "_model_module_version": "1.5.0",
            "_model_name": "HBoxModel",
            "_view_count": null,
            "_view_module": "@jupyter-widgets/controls",
            "_view_module_version": "1.5.0",
            "_view_name": "HBoxView",
            "box_style": "",
            "children": [
              "IPY_MODEL_847fb7cb341e447a8936418870340e28",
              "IPY_MODEL_80be222a3f3d4e56ad4fb41358ec3f8b",
              "IPY_MODEL_95ae1ed3f35f4fecb991f5a94bab9254"
            ],
            "layout": "IPY_MODEL_c7069100214e4f4d8733b618350464b4"
          }
        },
        "847fb7cb341e447a8936418870340e28": {
          "model_module": "@jupyter-widgets/controls",
          "model_name": "HTMLModel",
          "model_module_version": "1.5.0",
          "state": {
            "_dom_classes": [],
            "_model_module": "@jupyter-widgets/controls",
            "_model_module_version": "1.5.0",
            "_model_name": "HTMLModel",
            "_view_count": null,
            "_view_module": "@jupyter-widgets/controls",
            "_view_module_version": "1.5.0",
            "_view_name": "HTMLView",
            "description": "",
            "description_tooltip": null,
            "layout": "IPY_MODEL_0dc5f5ee5f9843fbabb572752dc6be38",
            "placeholder": "​",
            "style": "IPY_MODEL_37be713926254618abc1438c7693f4bd",
            "value": ""
          }
        },
        "80be222a3f3d4e56ad4fb41358ec3f8b": {
          "model_module": "@jupyter-widgets/controls",
          "model_name": "FloatProgressModel",
          "model_module_version": "1.5.0",
          "state": {
            "_dom_classes": [],
            "_model_module": "@jupyter-widgets/controls",
            "_model_module_version": "1.5.0",
            "_model_name": "FloatProgressModel",
            "_view_count": null,
            "_view_module": "@jupyter-widgets/controls",
            "_view_module_version": "1.5.0",
            "_view_name": "ProgressView",
            "bar_style": "success",
            "description": "",
            "description_tooltip": null,
            "layout": "IPY_MODEL_df328f58dc3d43f48ece2578a44d6eb9",
            "max": 1,
            "min": 0,
            "orientation": "horizontal",
            "style": "IPY_MODEL_6dcbb62f1f06490c9ab86f3e9312d01d",
            "value": 1
          }
        },
        "95ae1ed3f35f4fecb991f5a94bab9254": {
          "model_module": "@jupyter-widgets/controls",
          "model_name": "HTMLModel",
          "model_module_version": "1.5.0",
          "state": {
            "_dom_classes": [],
            "_model_module": "@jupyter-widgets/controls",
            "_model_module_version": "1.5.0",
            "_model_name": "HTMLModel",
            "_view_count": null,
            "_view_module": "@jupyter-widgets/controls",
            "_view_module_version": "1.5.0",
            "_view_name": "HTMLView",
            "description": "",
            "description_tooltip": null,
            "layout": "IPY_MODEL_395d2e6c28934b37a42988d867dcd369",
            "placeholder": "​",
            "style": "IPY_MODEL_d0817001cf7e4951b657cce7a412eaf9",
            "value": " 34041/? [01:35&lt;00:00, 325.43it/s]"
          }
        },
        "c7069100214e4f4d8733b618350464b4": {
          "model_module": "@jupyter-widgets/base",
          "model_name": "LayoutModel",
          "model_module_version": "1.2.0",
          "state": {
            "_model_module": "@jupyter-widgets/base",
            "_model_module_version": "1.2.0",
            "_model_name": "LayoutModel",
            "_view_count": null,
            "_view_module": "@jupyter-widgets/base",
            "_view_module_version": "1.2.0",
            "_view_name": "LayoutView",
            "align_content": null,
            "align_items": null,
            "align_self": null,
            "border": null,
            "bottom": null,
            "display": null,
            "flex": null,
            "flex_flow": null,
            "grid_area": null,
            "grid_auto_columns": null,
            "grid_auto_flow": null,
            "grid_auto_rows": null,
            "grid_column": null,
            "grid_gap": null,
            "grid_row": null,
            "grid_template_areas": null,
            "grid_template_columns": null,
            "grid_template_rows": null,
            "height": null,
            "justify_content": null,
            "justify_items": null,
            "left": null,
            "margin": null,
            "max_height": null,
            "max_width": null,
            "min_height": null,
            "min_width": null,
            "object_fit": null,
            "object_position": null,
            "order": null,
            "overflow": null,
            "overflow_x": null,
            "overflow_y": null,
            "padding": null,
            "right": null,
            "top": null,
            "visibility": null,
            "width": null
          }
        },
        "0dc5f5ee5f9843fbabb572752dc6be38": {
          "model_module": "@jupyter-widgets/base",
          "model_name": "LayoutModel",
          "model_module_version": "1.2.0",
          "state": {
            "_model_module": "@jupyter-widgets/base",
            "_model_module_version": "1.2.0",
            "_model_name": "LayoutModel",
            "_view_count": null,
            "_view_module": "@jupyter-widgets/base",
            "_view_module_version": "1.2.0",
            "_view_name": "LayoutView",
            "align_content": null,
            "align_items": null,
            "align_self": null,
            "border": null,
            "bottom": null,
            "display": null,
            "flex": null,
            "flex_flow": null,
            "grid_area": null,
            "grid_auto_columns": null,
            "grid_auto_flow": null,
            "grid_auto_rows": null,
            "grid_column": null,
            "grid_gap": null,
            "grid_row": null,
            "grid_template_areas": null,
            "grid_template_columns": null,
            "grid_template_rows": null,
            "height": null,
            "justify_content": null,
            "justify_items": null,
            "left": null,
            "margin": null,
            "max_height": null,
            "max_width": null,
            "min_height": null,
            "min_width": null,
            "object_fit": null,
            "object_position": null,
            "order": null,
            "overflow": null,
            "overflow_x": null,
            "overflow_y": null,
            "padding": null,
            "right": null,
            "top": null,
            "visibility": null,
            "width": null
          }
        },
        "37be713926254618abc1438c7693f4bd": {
          "model_module": "@jupyter-widgets/controls",
          "model_name": "DescriptionStyleModel",
          "model_module_version": "1.5.0",
          "state": {
            "_model_module": "@jupyter-widgets/controls",
            "_model_module_version": "1.5.0",
            "_model_name": "DescriptionStyleModel",
            "_view_count": null,
            "_view_module": "@jupyter-widgets/base",
            "_view_module_version": "1.2.0",
            "_view_name": "StyleView",
            "description_width": ""
          }
        },
        "df328f58dc3d43f48ece2578a44d6eb9": {
          "model_module": "@jupyter-widgets/base",
          "model_name": "LayoutModel",
          "model_module_version": "1.2.0",
          "state": {
            "_model_module": "@jupyter-widgets/base",
            "_model_module_version": "1.2.0",
            "_model_name": "LayoutModel",
            "_view_count": null,
            "_view_module": "@jupyter-widgets/base",
            "_view_module_version": "1.2.0",
            "_view_name": "LayoutView",
            "align_content": null,
            "align_items": null,
            "align_self": null,
            "border": null,
            "bottom": null,
            "display": null,
            "flex": null,
            "flex_flow": null,
            "grid_area": null,
            "grid_auto_columns": null,
            "grid_auto_flow": null,
            "grid_auto_rows": null,
            "grid_column": null,
            "grid_gap": null,
            "grid_row": null,
            "grid_template_areas": null,
            "grid_template_columns": null,
            "grid_template_rows": null,
            "height": null,
            "justify_content": null,
            "justify_items": null,
            "left": null,
            "margin": null,
            "max_height": null,
            "max_width": null,
            "min_height": null,
            "min_width": null,
            "object_fit": null,
            "object_position": null,
            "order": null,
            "overflow": null,
            "overflow_x": null,
            "overflow_y": null,
            "padding": null,
            "right": null,
            "top": null,
            "visibility": null,
            "width": "20px"
          }
        },
        "6dcbb62f1f06490c9ab86f3e9312d01d": {
          "model_module": "@jupyter-widgets/controls",
          "model_name": "ProgressStyleModel",
          "model_module_version": "1.5.0",
          "state": {
            "_model_module": "@jupyter-widgets/controls",
            "_model_module_version": "1.5.0",
            "_model_name": "ProgressStyleModel",
            "_view_count": null,
            "_view_module": "@jupyter-widgets/base",
            "_view_module_version": "1.2.0",
            "_view_name": "StyleView",
            "bar_color": null,
            "description_width": ""
          }
        },
        "395d2e6c28934b37a42988d867dcd369": {
          "model_module": "@jupyter-widgets/base",
          "model_name": "LayoutModel",
          "model_module_version": "1.2.0",
          "state": {
            "_model_module": "@jupyter-widgets/base",
            "_model_module_version": "1.2.0",
            "_model_name": "LayoutModel",
            "_view_count": null,
            "_view_module": "@jupyter-widgets/base",
            "_view_module_version": "1.2.0",
            "_view_name": "LayoutView",
            "align_content": null,
            "align_items": null,
            "align_self": null,
            "border": null,
            "bottom": null,
            "display": null,
            "flex": null,
            "flex_flow": null,
            "grid_area": null,
            "grid_auto_columns": null,
            "grid_auto_flow": null,
            "grid_auto_rows": null,
            "grid_column": null,
            "grid_gap": null,
            "grid_row": null,
            "grid_template_areas": null,
            "grid_template_columns": null,
            "grid_template_rows": null,
            "height": null,
            "justify_content": null,
            "justify_items": null,
            "left": null,
            "margin": null,
            "max_height": null,
            "max_width": null,
            "min_height": null,
            "min_width": null,
            "object_fit": null,
            "object_position": null,
            "order": null,
            "overflow": null,
            "overflow_x": null,
            "overflow_y": null,
            "padding": null,
            "right": null,
            "top": null,
            "visibility": null,
            "width": null
          }
        },
        "d0817001cf7e4951b657cce7a412eaf9": {
          "model_module": "@jupyter-widgets/controls",
          "model_name": "DescriptionStyleModel",
          "model_module_version": "1.5.0",
          "state": {
            "_model_module": "@jupyter-widgets/controls",
            "_model_module_version": "1.5.0",
            "_model_name": "DescriptionStyleModel",
            "_view_count": null,
            "_view_module": "@jupyter-widgets/base",
            "_view_module_version": "1.2.0",
            "_view_name": "StyleView",
            "description_width": ""
          }
        }
      }
    }
  },
  "nbformat": 4,
  "nbformat_minor": 0
}